{
 "cells": [
  {
   "cell_type": "markdown",
   "id": "6c843957",
   "metadata": {},
   "source": [
    "# Whiskey Recommendation System"
   ]
  },
  {
   "cell_type": "markdown",
   "id": "39df8a6b",
   "metadata": {},
   "source": [
    "Importing Libraries"
   ]
  },
  {
   "cell_type": "code",
   "execution_count": 1,
   "id": "b6007d24",
   "metadata": {},
   "outputs": [],
   "source": [
    "import pandas as pd\n",
    "from sklearn.feature_extraction.text import TfidfVectorizer\n",
    "from sklearn.metrics.pairwise import linear_kernel"
   ]
  },
  {
   "cell_type": "markdown",
   "id": "78537bcc",
   "metadata": {},
   "source": [
    "Loading the dataset"
   ]
  },
  {
   "cell_type": "code",
   "execution_count": 2,
   "id": "90d53161",
   "metadata": {},
   "outputs": [],
   "source": [
    "df = pd.read_csv(\"C:/Users/deval/OneDrive/Desktop/School/Projects/Whiskey Recommendation System/archive/scotch_review2020.csv\")"
   ]
  },
  {
   "cell_type": "markdown",
   "id": "0b710711",
   "metadata": {},
   "source": [
    "Dataset Information"
   ]
  },
  {
   "cell_type": "code",
   "execution_count": 3,
   "id": "f0d034a9",
   "metadata": {},
   "outputs": [
    {
     "name": "stdout",
     "output_type": "stream",
     "text": [
      "<class 'pandas.core.frame.DataFrame'>\n",
      "RangeIndex: 2247 entries, 0 to 2246\n",
      "Data columns (total 7 columns):\n",
      " #   Column               Non-Null Count  Dtype \n",
      "---  ------               --------------  ----- \n",
      " 0   id                   2247 non-null   int64 \n",
      " 1   name                 2247 non-null   object\n",
      " 2   category             2247 non-null   object\n",
      " 3   review.point         2247 non-null   int64 \n",
      " 4   price                2247 non-null   object\n",
      " 5   currency             2247 non-null   object\n",
      " 6   description.1.2247.  2208 non-null   object\n",
      "dtypes: int64(2), object(5)\n",
      "memory usage: 123.0+ KB\n",
      "None\n"
     ]
    }
   ],
   "source": [
    "print(df.info())"
   ]
  },
  {
   "cell_type": "markdown",
   "id": "a751050c",
   "metadata": {},
   "source": [
    "Summary Statistics"
   ]
  },
  {
   "cell_type": "code",
   "execution_count": 4,
   "id": "cb2be621",
   "metadata": {},
   "outputs": [
    {
     "name": "stdout",
     "output_type": "stream",
     "text": [
      "                id  review.point\n",
      "count  2247.000000   2247.000000\n",
      "mean   1124.000000     88.477526\n",
      "std     648.797349      2.949306\n",
      "min       1.000000     83.000000\n",
      "25%     562.500000     86.000000\n",
      "50%    1124.000000     88.000000\n",
      "75%    1685.500000     91.000000\n",
      "max    2247.000000     97.000000\n"
     ]
    }
   ],
   "source": [
    "print(df.describe())"
   ]
  },
  {
   "cell_type": "markdown",
   "id": "45ba3e9c",
   "metadata": {},
   "source": [
    "Missing values"
   ]
  },
  {
   "cell_type": "code",
   "execution_count": 5,
   "id": "b4742547",
   "metadata": {},
   "outputs": [
    {
     "name": "stdout",
     "output_type": "stream",
     "text": [
      "id                      0\n",
      "name                    0\n",
      "category                0\n",
      "review.point            0\n",
      "price                   0\n",
      "currency                0\n",
      "description.1.2247.    39\n",
      "dtype: int64\n"
     ]
    }
   ],
   "source": [
    "print(df.isnull().sum())"
   ]
  },
  {
   "cell_type": "markdown",
   "id": "6f54eff9",
   "metadata": {},
   "source": [
    "Data Preprocessing"
   ]
  },
  {
   "cell_type": "code",
   "execution_count": 7,
   "id": "fc8d9277",
   "metadata": {},
   "outputs": [
    {
     "name": "stdout",
     "output_type": "stream",
     "text": [
      "                                                name  \\\n",
      "0      Black Bowmore 42 year old 1964 vintage, 40.5%   \n",
      "1        Bowmore 46 year old (distilled 1964), 42.9%   \n",
      "2                     Johnnie Walker Blue Label, 40%   \n",
      "3    Glenlivet Cellar Collection 1969 vintage, 50.8%   \n",
      "4  The Macallan 29 year old 1976 Vintage (Cask #1...   \n",
      "\n",
      "                                            features  \n",
      "0  Black Bowmore 42 year old 1964 vintage, 40.5% ...  \n",
      "1  Bowmore 46 year old (distilled 1964), 42.9% Si...  \n",
      "2  Johnnie Walker Blue Label, 40% Blended Scotch ...  \n",
      "3  Glenlivet Cellar Collection 1969 vintage, 50.8...  \n",
      "4  The Macallan 29 year old 1976 Vintage (Cask #1...  \n"
     ]
    }
   ],
   "source": [
    "features = ['name', 'category', 'review.point', 'description.1.2247.']\n",
    "df['features'] = df[features].apply(lambda x: ' '.join(x.astype(str)), axis=1)\n",
    "print(df[['name', 'features']].head())"
   ]
  },
  {
   "cell_type": "markdown",
   "id": "0b04e132",
   "metadata": {},
   "source": [
    "Creating a similarity Matrix"
   ]
  },
  {
   "cell_type": "code",
   "execution_count": 8,
   "id": "8a9d92e0",
   "metadata": {},
   "outputs": [
    {
     "name": "stdout",
     "output_type": "stream",
     "text": [
      "(2247, 2247)\n"
     ]
    }
   ],
   "source": [
    "tfidf_vectorizer = TfidfVectorizer(stop_words='english')\n",
    "tfidf_matrix = tfidf_vectorizer.fit_transform(df['features'])\n",
    "cosine_sim = linear_kernel(tfidf_matrix, tfidf_matrix)\n",
    "print(cosine_sim.shape)"
   ]
  },
  {
   "cell_type": "markdown",
   "id": "a9ba21e4",
   "metadata": {},
   "source": [
    "Recommendation Function"
   ]
  },
  {
   "cell_type": "code",
   "execution_count": 13,
   "id": "aa0f3375",
   "metadata": {},
   "outputs": [],
   "source": [
    "def recommend_whiskeys(name, cosine_sim=cosine_sim, df=df, num_recommendations=5):\n",
    "    try:\n",
    "        idx = df[df['name'] == name].index[0]\n",
    "    except IndexError:\n",
    "        idx = None\n",
    "    if idx is not None:\n",
    "        sim_scores = list(enumerate(cosine_sim[idx]))\n",
    "        sim_scores = sorted(sim_scores, key=lambda x: x[1], reverse=True)\n",
    "        sim_scores = sim_scores[1:(num_recommendations + 1)]  \n",
    "        whiskey_indices = [score[0] for score in sim_scores]\n",
    "        recommendations = df['name'].iloc[whiskey_indices]\n",
    "    else:\n",
    "        recommendations = df['name'].sample(n=num_recommendations, random_state=42)\n",
    "    return recommendations"
   ]
  },
  {
   "cell_type": "markdown",
   "id": "a8562712",
   "metadata": {},
   "source": [
    "Recommending a Whiskey"
   ]
  },
  {
   "cell_type": "code",
   "execution_count": 17,
   "id": "305481b2",
   "metadata": {},
   "outputs": [
    {
     "name": "stdout",
     "output_type": "stream",
     "text": [
      "12                   Johnnie Walker Blue Anniversary, 60%\n",
      "86      Johnnie Walker Blue Label Ghost and Rare Port ...\n",
      "1345                Johnnie Walker Gold, 18 year old, 40%\n",
      "71                                   The John Walker, 40%\n",
      "769                      Johnnie Walker Sweet Peat, 40.8%\n",
      "Name: name, dtype: object\n"
     ]
    }
   ],
   "source": [
    "recommendations = recommend_whiskeys('Johnnie Walker Blue Label, 40%')\n",
    "print(recommendations)"
   ]
  }
 ],
 "metadata": {
  "kernelspec": {
   "display_name": "Python 3 (ipykernel)",
   "language": "python",
   "name": "python3"
  },
  "language_info": {
   "codemirror_mode": {
    "name": "ipython",
    "version": 3
   },
   "file_extension": ".py",
   "mimetype": "text/x-python",
   "name": "python",
   "nbconvert_exporter": "python",
   "pygments_lexer": "ipython3",
   "version": "3.11.4"
  }
 },
 "nbformat": 4,
 "nbformat_minor": 5
}
